{
 "cells": [
  {
   "cell_type": "markdown",
   "metadata": {},
   "source": [
    "## Coleta dos dados utilizando BeautifulSoup"
   ]
  },
  {
   "cell_type": "code",
   "execution_count": 1,
   "metadata": {},
   "outputs": [],
   "source": [
    "import requests\n",
    "from bs4 import BeautifulSoup\n",
    "import numpy as np\n",
    "import pandas as pd"
   ]
  },
  {
   "cell_type": "markdown",
   "metadata": {},
   "source": [
    "*get_product_info* é uma função que coleta as informações (sku, title, brand, model, price, category) de um produto da página do Magazine Luiza. Quando uma informação não é encontrada na página, o valor é preenchido como vazio."
   ]
  },
  {
   "cell_type": "code",
   "execution_count": 37,
   "metadata": {},
   "outputs": [],
   "source": [
    "def get_product_info(url, ctr):\n",
    "    r = requests.get(url)\n",
    "\n",
    "    html_doc = r.text\n",
    "\n",
    "    soup = BeautifulSoup(html_doc, 'html.parser')\n",
    "\n",
    "    sku = ''\n",
    "    # SKU (código do produto na loja)\n",
    "    span = soup.select('small.header-product__code')\n",
    "    if(len(span) > 0):\n",
    "        span = span[0]\n",
    "        sku = span.select('meta')\n",
    "        if(len(sku) > 0):\n",
    "            sku = sku[0].attrs['content']\n",
    "            sku = sku.split(':')\n",
    "            sku = sku[len(sku) - 1]\n",
    "        \n",
    "        # Titulo\n",
    "    title = soup.title.string\n",
    "\n",
    "    # soup.select('table.description__box')\n",
    "    table = soup.select('table.description__box--wildSand')\n",
    "    brand = ''\n",
    "    model = ''\n",
    "    price = ''\n",
    "    if(len(table) > 0 ):\n",
    "        table = table[0]\n",
    "        t = table.select('td.description__information-right')[0]\n",
    "        boxes = t.select('table.description__box')\n",
    "        for box in boxes:\n",
    "            # Marca\n",
    "            if(box.select('td.description__information-box-left')[0].text.strip() == 'Marca'):\n",
    "                brand = box.select('td.description__information-box-right')[0].text.strip()\n",
    "\n",
    "            # Modelo\n",
    "            if(box.select('td.description__information-box-left')[0].text.strip() == 'Modelo'):\n",
    "                model = box.select('td.description__information-box-right')[0].text.strip()\n",
    "\n",
    "    # Preço\n",
    "    price = soup.select('span.price-template__text')\n",
    "    if(len(price) > 0):\n",
    "        price = price[0].text\n",
    "    else:\n",
    "        price = -1\n",
    "    # Categoria\n",
    "    category = ctr\n",
    "\n",
    "    return (sku, title, brand, model, price, category)"
   ]
  },
  {
   "cell_type": "markdown",
   "metadata": {},
   "source": [
    "*get_sub_urls* é uma função que a partir da página de produtos de uma categoria, obtem a url de todos produtos para aquela categoria, criando um dicionário com a url e a categoria do produto."
   ]
  },
  {
   "cell_type": "code",
   "execution_count": 3,
   "metadata": {},
   "outputs": [],
   "source": [
    "def get_sub_urls(url_main):\n",
    "    # saída por produtos.\n",
    "    hrefs = np.empty(0)\n",
    "    size = -1\n",
    "    id = 0\n",
    "    cat = url_main.split('/')[3]\n",
    "\n",
    "    while(hrefs.size - size> 0):\n",
    "        size = hrefs.size\n",
    "        # Id da página.\n",
    "        id = id + 1\n",
    " \n",
    "        # Página de produtos.\n",
    "        urlf = url_main+str(id)+'/'\n",
    "        print(\"getting... \" + urlf)\n",
    "        # Obtendo link para cada produto.\n",
    "        r = requests.get(urlf)\n",
    "        html_doc = r.text\n",
    "        soup = BeautifulSoup(html_doc, 'html.parser')\n",
    "        prods = soup.select('li.product')\n",
    "        for prod in prods: \n",
    "            a = prod.select('a')[0]\n",
    "            href = {\n",
    "                'href': a.attrs['href'],\n",
    "                'cat': cat\n",
    "            }\n",
    "            hrefs= np.append(hrefs, href)\n",
    "        \n",
    "    return hrefs"
   ]
  },
  {
   "cell_type": "code",
   "execution_count": 8,
   "metadata": {},
   "outputs": [
    {
     "name": "stdout",
     "output_type": "stream",
     "text": [
      "sku:088894200\n"
     ]
    },
    {
     "data": {
      "text/plain": [
       "('088894200',\n",
       " 'Geladeira/Refrigerador Consul Frost Free Duplex - 437L Bem Estar CRM55ABANA Branco - Geladeira/Refrigerador Frost Free - Magazine Luiza',\n",
       " 'Consul',\n",
       " 'CRM55A',\n",
       " '2.137,41',\n",
       " 'geladeira-refrigerador')"
      ]
     },
     "execution_count": 8,
     "metadata": {},
     "output_type": "execute_result"
    }
   ],
   "source": [
    "url = 'https://www.magazineluiza.com.br/geladeira-refrigerador-consul-frost-free-duplex-437l-bem-estar-crm55abana-branco/p/0888942/ed/elgf/'\n",
    "type = 'geladeira-refrigerador'\n",
    "get_product_info(url, type)"
   ]
  },
  {
   "cell_type": "code",
   "execution_count": 5,
   "metadata": {},
   "outputs": [
    {
     "name": "stdout",
     "output_type": "stream",
     "text": [
      "sku:010541701\n"
     ]
    },
    {
     "data": {
      "text/plain": [
       "('010541701',\n",
       " 'Lava e Seca LG 11kg Smart Care Prime Touch  - 14 Programas de Lavagem Água Quente - Lavadora de Roupas Lava e Seca - Magazine Luiza',\n",
       " 'LG',\n",
       " 'Prime Touch',\n",
       " '2.450,91',\n",
       " 'lavadora-lava-e-seca')"
      ]
     },
     "execution_count": 5,
     "metadata": {},
     "output_type": "execute_result"
    }
   ],
   "source": [
    "url = \"https://www.magazineluiza.com.br/lava-e-seca-lg-11kg-smart-care-prime-touch-14-programas-de-lavagem-agua-quente/p/0105417/ed/ela1/\"\n",
    "type = 'lavadora-lava-e-seca'\n",
    "get_product_info(url, type)"
   ]
  },
  {
   "cell_type": "markdown",
   "metadata": {},
   "source": [
    "Coleta das urls dos produtos a partir das duas urls de categorias fornecidas."
   ]
  },
  {
   "cell_type": "code",
   "execution_count": 6,
   "metadata": {},
   "outputs": [
    {
     "name": "stdout",
     "output_type": "stream",
     "text": [
      "getting... https://www.magazineluiza.com.br/lavadora-de-roupas-lava-e-seca/eletrodomesticos/s/ed/ela1/1/\n",
      "getting... https://www.magazineluiza.com.br/lavadora-de-roupas-lava-e-seca/eletrodomesticos/s/ed/ela1/2/\n",
      "getting... https://www.magazineluiza.com.br/lavadora-de-roupas-lava-e-seca/eletrodomesticos/s/ed/ela1/3/\n",
      "getting... https://www.magazineluiza.com.br/lavadora-de-roupas-lava-e-seca/eletrodomesticos/s/ed/ela1/4/\n",
      "getting... https://www.magazineluiza.com.br/lavadora-de-roupas-lava-e-seca/eletrodomesticos/s/ed/ela1/5/\n",
      "getting... https://www.magazineluiza.com.br/lavadora-de-roupas-lava-e-seca/eletrodomesticos/s/ed/ela1/6/\n",
      "getting... https://www.magazineluiza.com.br/geladeira-refrigerador/eletrodomesticos/s/ed/refr/1/\n",
      "getting... https://www.magazineluiza.com.br/geladeira-refrigerador/eletrodomesticos/s/ed/refr/2/\n",
      "getting... https://www.magazineluiza.com.br/geladeira-refrigerador/eletrodomesticos/s/ed/refr/3/\n",
      "getting... https://www.magazineluiza.com.br/geladeira-refrigerador/eletrodomesticos/s/ed/refr/4/\n",
      "getting... https://www.magazineluiza.com.br/geladeira-refrigerador/eletrodomesticos/s/ed/refr/5/\n",
      "getting... https://www.magazineluiza.com.br/geladeira-refrigerador/eletrodomesticos/s/ed/refr/6/\n",
      "getting... https://www.magazineluiza.com.br/geladeira-refrigerador/eletrodomesticos/s/ed/refr/7/\n",
      "(550,)\n"
     ]
    }
   ],
   "source": [
    "product_list = [\"https://www.magazineluiza.com.br/lavadora-de-roupas-lava-e-seca/eletrodomesticos/s/ed/ela1/\", \"https://www.magazineluiza.com.br/geladeira-refrigerador/eletrodomesticos/s/ed/refr/\"]\n",
    "\n",
    "\n",
    "urls = np.empty(0)\n",
    "for url in product_list:\n",
    "    urls = np.append(urls, get_sub_urls(url))\n",
    "\n",
    "print(urls.shape)\n"
   ]
  },
  {
   "cell_type": "markdown",
   "metadata": {},
   "source": [
    "A partir das urls coletadas, realiza a coleta da base de produtos."
   ]
  },
  {
   "cell_type": "code",
   "execution_count": 85,
   "metadata": {},
   "outputs": [],
   "source": [
    "products = np.empty((0,6))\n",
    "for url in urls:\n",
    "    prod = np.array(get_product_info(url['href'], url['cat'])).reshape((1,6))\n",
    "    products = np.append(products, prod, axis=0)"
   ]
  },
  {
   "cell_type": "markdown",
   "metadata": {},
   "source": [
    "Salvando os dados coletados em um csv utilizando pandas."
   ]
  },
  {
   "cell_type": "code",
   "execution_count": null,
   "metadata": {},
   "outputs": [],
   "source": [
    "df = pd.DataFrame()\n",
    "# return (sku, title, brand, model, price, category)\n",
    "df['sku'] = products[:, 0]\n",
    "df['title'] = products[:, 1]\n",
    "df['brand'] = products[:, 2]\n",
    "df['model'] = products[:, 3]\n",
    "df['price'] = products[:, 4]\n",
    "df['category'] = products[:, 5]\n",
    "df.to_csv('magazine_data.csv', index=True)"
   ]
  },
  {
   "cell_type": "markdown",
   "metadata": {},
   "source": [
    "## Analise dos dados utilizando BagOfWords e Naive Bayes.\n",
    "\n",
    "A partir dos dados coletados, foi criado um modelo de classificação para predizer a categoria do produto a partir do seu título.\n",
    "Foi utilizado 70% dos dados para treinar o modelo (conjunto de treino) e os 30% restantes para avaliar (conjunto de teste).\n",
    "\n",
    "O modelo escolhido foi o Naive Bayes com BagOfWords."
   ]
  },
  {
   "cell_type": "code",
   "execution_count": 118,
   "metadata": {},
   "outputs": [
    {
     "data": {
      "text/html": [
       "<div>\n",
       "<style scoped>\n",
       "    .dataframe tbody tr th:only-of-type {\n",
       "        vertical-align: middle;\n",
       "    }\n",
       "\n",
       "    .dataframe tbody tr th {\n",
       "        vertical-align: top;\n",
       "    }\n",
       "\n",
       "    .dataframe thead th {\n",
       "        text-align: right;\n",
       "    }\n",
       "</style>\n",
       "<table border=\"1\" class=\"dataframe\">\n",
       "  <thead>\n",
       "    <tr style=\"text-align: right;\">\n",
       "      <th></th>\n",
       "      <th>sku</th>\n",
       "      <th>title</th>\n",
       "      <th>brand</th>\n",
       "      <th>model</th>\n",
       "      <th>price</th>\n",
       "      <th>category</th>\n",
       "    </tr>\n",
       "  </thead>\n",
       "  <tbody>\n",
       "    <tr>\n",
       "      <th>0</th>\n",
       "      <td>10541701</td>\n",
       "      <td>Lava e Seca LG 11kg Smart Care Prime Touch  - ...</td>\n",
       "      <td>LG</td>\n",
       "      <td>Prime Touch</td>\n",
       "      <td>2.450,91</td>\n",
       "      <td>lavadora-de-roupas-lava-e-seca</td>\n",
       "    </tr>\n",
       "    <tr>\n",
       "      <th>1</th>\n",
       "      <td>215900400</td>\n",
       "      <td>Lava e Seca Samsung 10,2kg Inox WD6000 - 13 Pr...</td>\n",
       "      <td>Samsung</td>\n",
       "      <td>WD6000</td>\n",
       "      <td>2.868,91</td>\n",
       "      <td>lavadora-de-roupas-lava-e-seca</td>\n",
       "    </tr>\n",
       "    <tr>\n",
       "      <th>2</th>\n",
       "      <td>217304200</td>\n",
       "      <td>Lava e Seca LG 8,5kg Mega Touch - 9 Programas ...</td>\n",
       "      <td>LG</td>\n",
       "      <td>Mega Touch</td>\n",
       "      <td>2.299,90</td>\n",
       "      <td>lavadora-de-roupas-lava-e-seca</td>\n",
       "    </tr>\n",
       "    <tr>\n",
       "      <th>3</th>\n",
       "      <td>10541600</td>\n",
       "      <td>Lava e Seca LG 11kg Smart Care Prime Touch  - ...</td>\n",
       "      <td>LG</td>\n",
       "      <td>Prime Touch</td>\n",
       "      <td>2.979,90</td>\n",
       "      <td>lavadora-de-roupas-lava-e-seca</td>\n",
       "    </tr>\n",
       "    <tr>\n",
       "      <th>4</th>\n",
       "      <td>219008900</td>\n",
       "      <td>Lava e Seca Samsung 10,2kg Prata WD4000 - 12 P...</td>\n",
       "      <td>Samsung</td>\n",
       "      <td>WD4000</td>\n",
       "      <td>2.422,41</td>\n",
       "      <td>lavadora-de-roupas-lava-e-seca</td>\n",
       "    </tr>\n",
       "  </tbody>\n",
       "</table>\n",
       "</div>"
      ],
      "text/plain": [
       "         sku                                              title    brand  \\\n",
       "0   10541701  Lava e Seca LG 11kg Smart Care Prime Touch  - ...       LG   \n",
       "1  215900400  Lava e Seca Samsung 10,2kg Inox WD6000 - 13 Pr...  Samsung   \n",
       "2  217304200  Lava e Seca LG 8,5kg Mega Touch - 9 Programas ...       LG   \n",
       "3   10541600  Lava e Seca LG 11kg Smart Care Prime Touch  - ...       LG   \n",
       "4  219008900  Lava e Seca Samsung 10,2kg Prata WD4000 - 12 P...  Samsung   \n",
       "\n",
       "         model     price                        category  \n",
       "0  Prime Touch  2.450,91  lavadora-de-roupas-lava-e-seca  \n",
       "1       WD6000  2.868,91  lavadora-de-roupas-lava-e-seca  \n",
       "2   Mega Touch  2.299,90  lavadora-de-roupas-lava-e-seca  \n",
       "3  Prime Touch  2.979,90  lavadora-de-roupas-lava-e-seca  \n",
       "4       WD4000  2.422,41  lavadora-de-roupas-lava-e-seca  "
      ]
     },
     "execution_count": 118,
     "metadata": {},
     "output_type": "execute_result"
    }
   ],
   "source": [
    "# Lendo dados\n",
    "df = pd.read_csv('magazine_data.csv')\n",
    "df = df.loc[:, ~df.columns.str.contains('^Unnamed')] # Removendo Index Unnamed\n",
    "df.head()"
   ]
  },
  {
   "cell_type": "code",
   "execution_count": 114,
   "metadata": {},
   "outputs": [],
   "source": [
    "#  Realizando pré processamento dos dados.\n",
    "\n",
    "# Convertendo para lower case\n",
    "df['title'] = df['title'].str.lower()\n",
    "\n",
    "target_names = df['category'].astype('category').cat.categories\n",
    "\n",
    "# Convertendo as categorias para numérico\n",
    "df['category'] = df['category'].astype('category').cat.codes"
   ]
  },
  {
   "cell_type": "code",
   "execution_count": 115,
   "metadata": {},
   "outputs": [],
   "source": [
    "# Separando conjunto de treino (70%) e conjunto de teste (30%)\n",
    "from sklearn.model_selection import train_test_split\n",
    "train, test = train_test_split(df, test_size=0.30, random_state=42, shuffle=True)\n",
    "\n",
    "# Conjunto de treino.\n",
    "x_train = train['title']\n",
    "y_train = train['category']\n",
    "\n",
    "# Conjunto de testes.\n",
    "x_test = test['title']\n",
    "y_test = test['category']"
   ]
  },
  {
   "cell_type": "code",
   "execution_count": 116,
   "metadata": {},
   "outputs": [],
   "source": [
    "# Construindo modelo para a classificação.\n",
    "from sklearn.feature_extraction.text import CountVectorizer\n",
    "count_vect = CountVectorizer()\n",
    "x_count_train = count_vect.fit_transform(x_train)\n",
    "\n",
    "\n",
    "from sklearn.naive_bayes import MultinomialNB\n",
    "clf = MultinomialNB().fit(x_count_train, y_train)"
   ]
  },
  {
   "cell_type": "code",
   "execution_count": 117,
   "metadata": {},
   "outputs": [
    {
     "name": "stdout",
     "output_type": "stream",
     "text": [
      "                                precision    recall  f1-score   support\n",
      "\n",
      "        geladeira-refrigerador       1.00      1.00      1.00        90\n",
      "lavadora-de-roupas-lava-e-seca       1.00      1.00      1.00        75\n",
      "\n",
      "                   avg / total       1.00      1.00      1.00       165\n",
      "\n"
     ]
    }
   ],
   "source": [
    "# Avaliando modelo construido.\n",
    "x_count_test = count_vect.transform(x_test)\n",
    "\n",
    "predicted = clf.predict(x_count_test)\n",
    "\n",
    "from sklearn.metrics import classification_report\n",
    "print(classification_report(y_test, predicted, target_names=target_names))\n"
   ]
  }
 ],
 "metadata": {
  "kernelspec": {
   "display_name": "Python 3",
   "language": "python",
   "name": "python3"
  },
  "language_info": {
   "codemirror_mode": {
    "name": "ipython",
    "version": 3
   },
   "file_extension": ".py",
   "mimetype": "text/x-python",
   "name": "python",
   "nbconvert_exporter": "python",
   "pygments_lexer": "ipython3",
   "version": "3.6.5"
  }
 },
 "nbformat": 4,
 "nbformat_minor": 2
}
